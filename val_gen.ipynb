{
 "cells": [
  {
   "cell_type": "code",
   "execution_count": 1,
   "metadata": {},
   "outputs": [
    {
     "name": "stderr",
     "output_type": "stream",
     "text": [
      "Using TensorFlow backend.\n"
     ]
    }
   ],
   "source": [
    "import pandas as pd\n",
    "%matplotlib inline\n",
    "import numpy as np\n",
    "import matplotlib.pyplot as plt\n",
    "import pandas as pd\n",
    "from keras.losses import mean_absolute_percentage_error"
   ]
  },
  {
   "cell_type": "code",
   "execution_count": 2,
   "metadata": {},
   "outputs": [],
   "source": [
    "import pickle"
   ]
  },
  {
   "cell_type": "code",
   "execution_count": 3,
   "metadata": {},
   "outputs": [],
   "source": [
    "# watch for any changes in the utils module, and reload it automatically\n",
    "%load_ext autoreload\n",
    "%autoreload 2"
   ]
  },
  {
   "cell_type": "code",
   "execution_count": 4,
   "metadata": {},
   "outputs": [],
   "source": [
    "from utils.generate_models import generate_models, generate_DeepConvLSTM_model\n",
    "from utils.validate_models import find_best_architecture, evaluate_model, evaluate_plot\n",
    "from utils.data_generator import DataGenerator\n",
    "from utils.get_dataset_pulsi import get_dataset_pulsi"
   ]
  },
  {
   "cell_type": "code",
   "execution_count": 5,
   "metadata": {},
   "outputs": [],
   "source": [
    "columns = np.array(['bpm', 'spo2'])\n",
    "dataset_reduced_std, _ = get_dataset_pulsi(columns,\n",
    "                                           filename='./utils/test_data/42nights_shifted.csv')"
   ]
  },
  {
   "cell_type": "code",
   "execution_count": 6,
   "metadata": {},
   "outputs": [],
   "source": [
    "val_names_orig = \\\n",
    "    np.array(['p_17-02-11', 'p_17-02-12', 'p_17-02-13', 'p_17-02-14',\n",
    "              'p_17-02-15', 'p_17-02-16', 'p_17-02-17', 'p_17-02-18'])\n",
    "val_names = [n + \"_\" + str(i) for n in val_names_orig for i in range(0, 15)]"
   ]
  },
  {
   "cell_type": "code",
   "execution_count": 7,
   "metadata": {},
   "outputs": [],
   "source": [
    "batch_size = 32\n",
    "number_of_predictions = 4  # numero de predicciones en la salida\n",
    "window_size = 12  # ventana de valores para la prediccion"
   ]
  },
  {
   "cell_type": "code",
   "execution_count": 8,
   "metadata": {},
   "outputs": [],
   "source": [
    "val_gen = DataGenerator(dataset_reduced_std, val_names,\n",
    "                        \"spo2\", batch_size=batch_size,\n",
    "                        number_of_predictions=number_of_predictions,\n",
    "                        window_size=window_size,\n",
    "                        step_prediction_dates=1, shuffle=False,\n",
    "                        rebalance_data=True, rebalance_threshold=0.5,\n",
    "                        debug=False)"
   ]
  },
  {
   "cell_type": "code",
   "execution_count": 9,
   "metadata": {},
   "outputs": [],
   "source": [
    "with open(\"val_gen.pkl\", 'wb') as output:\n",
    "    pickle.dump(val_gen, output, pickle.HIGHEST_PROTOCOL)"
   ]
  },
  {
   "cell_type": "code",
   "execution_count": 10,
   "metadata": {},
   "outputs": [],
   "source": [
    "X, y = val_gen.get_all_batches()"
   ]
  },
  {
   "cell_type": "code",
   "execution_count": 11,
   "metadata": {},
   "outputs": [
    {
     "data": {
      "text/plain": [
       "2267565.531491879"
      ]
     },
     "execution_count": 11,
     "metadata": {},
     "output_type": "execute_result"
    }
   ],
   "source": [
    "X.sum()"
   ]
  },
  {
   "cell_type": "code",
   "execution_count": 12,
   "metadata": {},
   "outputs": [
    {
     "data": {
      "text/plain": [
       "516429.0304805267"
      ]
     },
     "execution_count": 12,
     "metadata": {},
     "output_type": "execute_result"
    }
   ],
   "source": [
    "y.sum()"
   ]
  },
  {
   "cell_type": "code",
   "execution_count": null,
   "metadata": {},
   "outputs": [],
   "source": []
  }
 ],
 "metadata": {
  "kernelspec": {
   "display_name": "Python 3",
   "language": "python",
   "name": "python3"
  },
  "language_info": {
   "codemirror_mode": {
    "name": "ipython",
    "version": 3
   },
   "file_extension": ".py",
   "mimetype": "text/x-python",
   "name": "python",
   "nbconvert_exporter": "python",
   "pygments_lexer": "ipython3",
   "version": "3.6.5"
  }
 },
 "nbformat": 4,
 "nbformat_minor": 2
}
