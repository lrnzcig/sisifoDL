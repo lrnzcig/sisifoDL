{
 "cells": [
  {
   "cell_type": "code",
   "execution_count": 1,
   "metadata": {},
   "outputs": [],
   "source": [
    "import pandas as pd\n",
    "import numpy as np\n",
    "import pickle"
   ]
  },
  {
   "cell_type": "code",
   "execution_count": 2,
   "metadata": {},
   "outputs": [],
   "source": [
    "dir_name = \"../../Downloads/GC_pulsi/GC_find_best_arch_250_rnn_1_cnn_1_pulsi_rebalance/\""
   ]
  },
  {
   "cell_type": "code",
   "execution_count": 3,
   "metadata": {},
   "outputs": [],
   "source": [
    "# silly test"
   ]
  },
  {
   "cell_type": "code",
   "execution_count": 4,
   "metadata": {},
   "outputs": [
    {
     "data": {
      "text/plain": [
       "{'lstm_dims': [77],\n",
       " 'learning_rate': 0.002257145150581335,\n",
       " 'dropout_cnn': 0.6364945877501806,\n",
       " 'filters': [77],\n",
       " 'regularization_rate': 0.0007152072379178071,\n",
       " 'dropout': None,\n",
       " 'dropout_rnn': 0.7930762171488877}"
      ]
     },
     "execution_count": 4,
     "metadata": {},
     "output_type": "execute_result"
    }
   ],
   "source": [
    "i = 0\n",
    "with open(dir_name + 'model_no_cv_'+ str(i) + '.pkl', 'rb') as f:\n",
    "    model = pickle.load(f)\n",
    "model"
   ]
  },
  {
   "cell_type": "code",
   "execution_count": 5,
   "metadata": {},
   "outputs": [
    {
     "data": {
      "text/html": [
       "<div>\n",
       "<style scoped>\n",
       "    .dataframe tbody tr th:only-of-type {\n",
       "        vertical-align: middle;\n",
       "    }\n",
       "\n",
       "    .dataframe tbody tr th {\n",
       "        vertical-align: top;\n",
       "    }\n",
       "\n",
       "    .dataframe thead th {\n",
       "        text-align: right;\n",
       "    }\n",
       "</style>\n",
       "<table border=\"1\" class=\"dataframe\">\n",
       "  <thead>\n",
       "    <tr style=\"text-align: right;\">\n",
       "      <th></th>\n",
       "      <th>loss</th>\n",
       "      <th>metric</th>\n",
       "      <th>val_loss</th>\n",
       "      <th>val_metric</th>\n",
       "    </tr>\n",
       "  </thead>\n",
       "  <tbody>\n",
       "    <tr>\n",
       "      <th>1</th>\n",
       "      <td>0.157597</td>\n",
       "      <td>1.564338e+07</td>\n",
       "      <td>0.082319</td>\n",
       "      <td>26.969810</td>\n",
       "    </tr>\n",
       "    <tr>\n",
       "      <th>2</th>\n",
       "      <td>0.124165</td>\n",
       "      <td>1.627806e+07</td>\n",
       "      <td>0.070536</td>\n",
       "      <td>26.144996</td>\n",
       "    </tr>\n",
       "    <tr>\n",
       "      <th>3</th>\n",
       "      <td>0.098997</td>\n",
       "      <td>1.575851e+07</td>\n",
       "      <td>0.060724</td>\n",
       "      <td>24.856855</td>\n",
       "    </tr>\n",
       "    <tr>\n",
       "      <th>4</th>\n",
       "      <td>0.082130</td>\n",
       "      <td>1.596966e+07</td>\n",
       "      <td>0.053665</td>\n",
       "      <td>24.856441</td>\n",
       "    </tr>\n",
       "    <tr>\n",
       "      <th>5</th>\n",
       "      <td>0.068634</td>\n",
       "      <td>1.531537e+07</td>\n",
       "      <td>0.048292</td>\n",
       "      <td>24.748082</td>\n",
       "    </tr>\n",
       "    <tr>\n",
       "      <th>6</th>\n",
       "      <td>0.059701</td>\n",
       "      <td>1.463662e+07</td>\n",
       "      <td>0.044257</td>\n",
       "      <td>24.669955</td>\n",
       "    </tr>\n",
       "    <tr>\n",
       "      <th>7</th>\n",
       "      <td>0.052699</td>\n",
       "      <td>1.390562e+07</td>\n",
       "      <td>0.041773</td>\n",
       "      <td>25.416909</td>\n",
       "    </tr>\n",
       "    <tr>\n",
       "      <th>8</th>\n",
       "      <td>0.046822</td>\n",
       "      <td>1.415232e+07</td>\n",
       "      <td>0.039371</td>\n",
       "      <td>25.528650</td>\n",
       "    </tr>\n",
       "    <tr>\n",
       "      <th>9</th>\n",
       "      <td>0.041703</td>\n",
       "      <td>1.320786e+07</td>\n",
       "      <td>0.037428</td>\n",
       "      <td>25.057178</td>\n",
       "    </tr>\n",
       "  </tbody>\n",
       "</table>\n",
       "</div>"
      ],
      "text/plain": [
       "       loss        metric  val_loss  val_metric\n",
       "1  0.157597  1.564338e+07  0.082319   26.969810\n",
       "2  0.124165  1.627806e+07  0.070536   26.144996\n",
       "3  0.098997  1.575851e+07  0.060724   24.856855\n",
       "4  0.082130  1.596966e+07  0.053665   24.856441\n",
       "5  0.068634  1.531537e+07  0.048292   24.748082\n",
       "6  0.059701  1.463662e+07  0.044257   24.669955\n",
       "7  0.052699  1.390562e+07  0.041773   25.416909\n",
       "8  0.046822  1.415232e+07  0.039371   25.528650\n",
       "9  0.041703  1.320786e+07  0.037428   25.057178"
      ]
     },
     "execution_count": 5,
     "metadata": {},
     "output_type": "execute_result"
    }
   ],
   "source": [
    "with open(dir_name + 'history_no_cv_'+ str(i) + '.pkl', 'rb') as f:\n",
    "    history = pd.read_pickle(f)\n",
    "history[1:10]"
   ]
  },
  {
   "cell_type": "code",
   "execution_count": 6,
   "metadata": {},
   "outputs": [],
   "source": [
    "# read best results"
   ]
  },
  {
   "cell_type": "code",
   "execution_count": 7,
   "metadata": {},
   "outputs": [
    {
     "data": {
      "text/plain": [
       "[0.031525163186921015,\n",
       " 0.0339819631125364,\n",
       " 0.03608857917909821,\n",
       " 0.03790192031818959,\n",
       " 0.032161757815629244,\n",
       " 0.03346525981194443,\n",
       " 0.05287008163415723,\n",
       " 0.031899777654972344,\n",
       " 0.035049223651488624,\n",
       " 0.03223144883910815]"
      ]
     },
     "execution_count": 7,
     "metadata": {},
     "output_type": "execute_result"
    }
   ],
   "source": [
    "with open(dir_name + 'val_losses_no_cv.pkl', 'rb') as f:\n",
    "    val_losses = pickle.load(f)\n",
    "val_losses[0:10]"
   ]
  },
  {
   "cell_type": "code",
   "execution_count": 8,
   "metadata": {},
   "outputs": [
    {
     "data": {
      "text/plain": [
       "[25.368743684556748,\n",
       " 26.44130235248142,\n",
       " 26.4988358285692,\n",
       " 26.747018337249756,\n",
       " 26.05620903438992,\n",
       " 26.418986055586075,\n",
       " 25.34555090798272,\n",
       " 25.01619789335463,\n",
       " 26.393463134765625,\n",
       " 25.51183615790473]"
      ]
     },
     "execution_count": 8,
     "metadata": {},
     "output_type": "execute_result"
    }
   ],
   "source": [
    "with open(dir_name + '/val_metrics_no_cv.pkl', 'rb') as f:\n",
    "    val_metrics = pickle.load(f)\n",
    "val_metrics[0:10]"
   ]
  },
  {
   "cell_type": "code",
   "execution_count": 9,
   "metadata": {},
   "outputs": [
    {
     "data": {
      "text/plain": [
       "85"
      ]
     },
     "execution_count": 9,
     "metadata": {},
     "output_type": "execute_result"
    }
   ],
   "source": [
    "i_val_losses = np.nanargmin(val_losses)\n",
    "i_val_losses"
   ]
  },
  {
   "cell_type": "code",
   "execution_count": 10,
   "metadata": {},
   "outputs": [
    {
     "data": {
      "text/plain": [
       "170"
      ]
     },
     "execution_count": 10,
     "metadata": {},
     "output_type": "execute_result"
    }
   ],
   "source": [
    "i_val_metrics = np.nanargmin(val_metrics)\n",
    "i_val_metrics"
   ]
  },
  {
   "cell_type": "code",
   "execution_count": 11,
   "metadata": {},
   "outputs": [
    {
     "data": {
      "text/plain": [
       "170"
      ]
     },
     "execution_count": 11,
     "metadata": {},
     "output_type": "execute_result"
    }
   ],
   "source": [
    "# excluding a value\n",
    "exclude_list = [134]\n",
    "tmp = pd.DataFrame([(i, element) for i, element in enumerate(val_metrics) if i not in exclude_list])\n",
    "i_val_metrics = int(tmp.iloc[tmp[1].idxmin()][0])\n",
    "i_val_metrics"
   ]
  },
  {
   "cell_type": "code",
   "execution_count": 12,
   "metadata": {},
   "outputs": [
    {
     "name": "stdout",
     "output_type": "stream",
     "text": [
      "{'lstm_dims': [52], 'learning_rate': 0.00014060216425418537, 'dropout_cnn': 0.8786204825467088, 'filters': [40], 'regularization_rate': 0.0002466638036915708, 'dropout': None, 'dropout_rnn': 0.7446100092040331}\n",
      "0.029372071485138602\n",
      "24.42583629820082\n"
     ]
    }
   ],
   "source": [
    "with open(dir_name + 'model_no_cv_'+ str(i_val_losses) + '.pkl', 'rb') as f:\n",
    "    model = pickle.load(f)\n",
    "print(model)\n",
    "print(val_losses[i_val_losses])\n",
    "print(val_metrics[i_val_losses])"
   ]
  },
  {
   "cell_type": "code",
   "execution_count": 13,
   "metadata": {},
   "outputs": [
    {
     "name": "stdout",
     "output_type": "stream",
     "text": [
      "{'lstm_dims': [78], 'learning_rate': 0.00010687210718431893, 'dropout_cnn': 0.808173679245501, 'filters': [33], 'regularization_rate': 0.00016014486338207127, 'dropout': None, 'dropout_rnn': 0.7160648143595985}\n",
      "0.02941751102399495\n",
      "24.02349313100179\n"
     ]
    }
   ],
   "source": [
    "with open(dir_name + 'model_no_cv_'+ str(i_val_metrics) + '.pkl', 'rb') as f:\n",
    "    model = pickle.load(f)\n",
    "print(model)\n",
    "print(val_losses[i_val_metrics])\n",
    "print(val_metrics[i_val_metrics])"
   ]
  },
  {
   "cell_type": "code",
   "execution_count": 14,
   "metadata": {},
   "outputs": [
    {
     "name": "stdout",
     "output_type": "stream",
     "text": [
      "         loss        metric  val_loss  val_metric\n",
      "184  0.032262  1.424553e+07  0.030089   25.277739\n",
      "185  0.032903  1.496677e+07  0.029378   24.929263\n",
      "186  0.033441  1.543193e+07  0.029127   24.392939\n",
      "187  0.032388  1.398383e+07  0.029359   24.553742\n",
      "188  0.032065  1.441436e+07  0.029851   24.827818\n",
      "189  0.032891  1.493506e+07  0.029208   24.723907\n",
      "190  0.031755  1.396756e+07  0.029301   24.635577\n",
      "191  0.031290  1.326757e+07  0.029300   24.511905\n",
      "192  0.032181  1.482630e+07  0.030473   25.708839\n",
      "193  0.031098  1.364013e+07  0.029372   24.425836\n",
      "194\n"
     ]
    }
   ],
   "source": [
    "with open(dir_name + 'history_no_cv_'+ str(i_val_losses) + '.pkl', 'rb') as f:\n",
    "    history = pd.read_pickle(f)\n",
    "print(history[-10:])\n",
    "print(len(history['loss']))"
   ]
  },
  {
   "cell_type": "code",
   "execution_count": 15,
   "metadata": {},
   "outputs": [
    {
     "name": "stdout",
     "output_type": "stream",
     "text": [
      "         loss        metric  val_loss  val_metric\n",
      "183  0.029395  1.211634e+07  0.030274   25.000817\n",
      "184  0.029228  1.265766e+07  0.029898   24.364983\n",
      "185  0.029551  1.301906e+07  0.030225   25.070139\n",
      "186  0.029998  1.314017e+07  0.030403   24.888017\n",
      "187  0.029424  1.281775e+07  0.030138   24.600458\n",
      "188  0.028477  1.183522e+07  0.030019   24.658845\n",
      "189  0.028098  1.168553e+07  0.029854   24.293646\n",
      "190  0.028015  1.229166e+07  0.029840   24.178849\n",
      "191  0.029044  1.300207e+07  0.030078   24.381284\n",
      "192  0.028162  1.187927e+07  0.029418   24.023493\n",
      "193\n"
     ]
    }
   ],
   "source": [
    "with open(dir_name + 'history_no_cv_'+ str(i_val_metrics) + '.pkl', 'rb') as f:\n",
    "    history = pd.read_pickle(f)\n",
    "print(history[-10:])\n",
    "print(len(history['loss']))"
   ]
  },
  {
   "cell_type": "code",
   "execution_count": 19,
   "metadata": {},
   "outputs": [
    {
     "name": "stdout",
     "output_type": "stream",
     "text": [
      "{'dropout_rnn': 0.8005619323359296, 'lstm_dims': [77], 'dropout_cnn': 0.7930762171488877, 'regularization_rate': 0.0007152072379178071, 'learning_rate': 0.002257145150581335, 'dropout': None, 'filters': []}\n",
      "{'dropout_rnn': 0.7162032579989084, 'lstm_dims': [44], 'dropout_cnn': 0.8906535140850043, 'regularization_rate': 0.00010013715073006888, 'learning_rate': 0.007863135708165688, 'dropout': None, 'filters': []}\n",
      "{'dropout_rnn': 0.8415154734596044, 'lstm_dims': [17], 'dropout_cnn': 0.4302198723729804, 'regularization_rate': 0.0001914830639278341, 'learning_rate': 0.0030338915010154626, 'dropout': None, 'filters': []}\n",
      "{'dropout_rnn': 0.5167864357880039, 'lstm_dims': [77], 'dropout_cnn': 0.28026566954761944, 'regularization_rate': 0.003344295535938087, 'learning_rate': 0.0029568525820458567, 'dropout': None, 'filters': []}\n",
      "{'dropout_rnn': 0.2653879925755614, 'lstm_dims': [79], 'dropout_cnn': 0.587512259666413, 'regularization_rate': 0.00042418073952609853, 'learning_rate': 0.00010055426948342279, 'dropout': None, 'filters': []}\n",
      "{'dropout_rnn': 0.7225030297939083, 'lstm_dims': [97], 'dropout_cnn': 0.7583271747509472, 'regularization_rate': 0.017891356073011, 'learning_rate': 0.040029619594569944, 'dropout': None, 'filters': []}\n",
      "{'dropout_rnn': 0.67203383421285, 'lstm_dims': [15], 'dropout_cnn': 0.8096999744057425, 'regularization_rate': 0.006934754519341103, 'learning_rate': 0.00020659283539167092, 'dropout': None, 'filters': []}\n",
      "{'dropout_rnn': 0.8354904025139476, 'lstm_dims': [39], 'dropout_cnn': 0.767137910092186, 'regularization_rate': 0.008271956932840531, 'learning_rate': 0.0064623445760444015, 'dropout': None, 'filters': []}\n",
      "{'dropout_rnn': 0.41806698400049513, 'lstm_dims': [14], 'dropout_cnn': 0.6613093312292475, 'regularization_rate': 0.0007469293528859517, 'learning_rate': 0.000621448380659164, 'dropout': None, 'filters': []}\n",
      "{'dropout_rnn': 0.5505646959161061, 'lstm_dims': [86], 'dropout_cnn': 0.7808419808236047, 'regularization_rate': 0.00017672987739465488, 'learning_rate': 0.0013283553963223801, 'dropout': None, 'filters': []}\n",
      "{'dropout_rnn': 0.5065215421448299, 'lstm_dims': [91], 'dropout_cnn': 0.21108960270242222, 'regularization_rate': 0.04250586647843282, 'learning_rate': 0.003853181140238101, 'dropout': None, 'filters': []}\n",
      "{'dropout_rnn': 0.3953176113530241, 'lstm_dims': [95], 'dropout_cnn': 0.43777731241363405, 'regularization_rate': 0.0011956068129036028, 'learning_rate': 0.008970052680858915, 'dropout': None, 'filters': []}\n",
      "{'dropout_rnn': 0.29348303406648246, 'lstm_dims': [59], 'dropout_cnn': 0.7894804396431663, 'regularization_rate': 0.0011706280668140902, 'learning_rate': 0.0003489952211665015, 'dropout': None, 'filters': []}\n",
      "{'dropout_rnn': 0.37506809433930244, 'lstm_dims': [61], 'dropout_cnn': 0.7279699765180745, 'regularization_rate': 0.016157252456151718, 'learning_rate': 0.023144103022849038, 'dropout': None, 'filters': []}\n",
      "{'dropout_rnn': 0.21567164453827553, 'lstm_dims': [73], 'dropout_cnn': 0.5782283066557561, 'regularization_rate': 0.020011060115749435, 'learning_rate': 0.005638315423462748, 'dropout': None, 'filters': []}\n",
      "{'dropout_rnn': 0.25811992589271926, 'lstm_dims': [34], 'dropout_cnn': 0.7888163222443438, 'regularization_rate': 0.05673953211100675, 'learning_rate': 0.03901290953902964, 'dropout': None, 'filters': []}\n",
      "{'dropout_rnn': 0.32604151265007075, 'lstm_dims': [53], 'dropout_cnn': 0.8952457855402822, 'regularization_rate': 0.006030300699691275, 'learning_rate': 0.02714749571058718, 'dropout': None, 'filters': []}\n",
      "{'dropout_rnn': 0.4307176889992025, 'lstm_dims': [52], 'dropout_cnn': 0.22245895651096725, 'regularization_rate': 0.00037109336698991634, 'learning_rate': 0.00010070010052534328, 'dropout': None, 'filters': []}\n",
      "{'dropout_rnn': 0.6941930416950943, 'lstm_dims': [80], 'dropout_cnn': 0.5771239100264545, 'regularization_rate': 0.05264779015052608, 'learning_rate': 0.0005733685597809707, 'dropout': None, 'filters': []}\n",
      "{'dropout_rnn': 0.2715346111803786, 'lstm_dims': [93], 'dropout_cnn': 0.37035521780939457, 'regularization_rate': 0.03924702040078558, 'learning_rate': 0.03257783888446957, 'dropout': None, 'filters': []}\n",
      "{'dropout_rnn': 0.5351153641053059, 'lstm_dims': [35], 'dropout_cnn': 0.8885203154652128, 'regularization_rate': 0.0004937446513362427, 'learning_rate': 0.0003576843289402625, 'dropout': None, 'filters': []}\n",
      "{'dropout_rnn': 0.2059877279822249, 'lstm_dims': [88], 'dropout_cnn': 0.5443326336861396, 'regularization_rate': 0.00020578440263278712, 'learning_rate': 0.012070358572344784, 'dropout': None, 'filters': []}\n",
      "{'dropout_rnn': 0.8148732954443338, 'lstm_dims': [44], 'dropout_cnn': 0.5317942074702795, 'regularization_rate': 0.012208087963250522, 'learning_rate': 0.0008755602333299914, 'dropout': None, 'filters': []}\n",
      "{'dropout_rnn': 0.6267097725927393, 'lstm_dims': [61], 'dropout_cnn': 0.6930059101572328, 'regularization_rate': 0.0026482300588932983, 'learning_rate': 0.00033798025637110093, 'dropout': None, 'filters': []}\n",
      "{'dropout_rnn': 0.33886557674537005, 'lstm_dims': [89], 'dropout_cnn': 0.282283072311652, 'regularization_rate': 0.00029837959577524753, 'learning_rate': 0.0014265402733236953, 'dropout': None, 'filters': []}\n",
      "{'dropout_rnn': 0.48290878381865593, 'lstm_dims': [72], 'dropout_cnn': 0.31995392748156615, 'regularization_rate': 0.07385331496366788, 'learning_rate': 0.0015417493338223615, 'dropout': None, 'filters': []}\n",
      "{'dropout_rnn': 0.3083416324335307, 'lstm_dims': [74], 'dropout_cnn': 0.3367691411945027, 'regularization_rate': 0.007451425805839747, 'learning_rate': 0.00011674593162454161, 'dropout': None, 'filters': []}\n",
      "{'dropout_rnn': 0.2732747677999133, 'lstm_dims': [77], 'dropout_cnn': 0.6615622858976199, 'regularization_rate': 0.00034173903712417903, 'learning_rate': 0.04861309696952579, 'dropout': None, 'filters': []}\n",
      "{'dropout_rnn': 0.27058108878448883, 'lstm_dims': [37], 'dropout_cnn': 0.821013059018505, 'regularization_rate': 0.0010050893860056075, 'learning_rate': 0.0020542005289884294, 'dropout': None, 'filters': []}\n",
      "{'dropout_rnn': 0.4467828818094964, 'lstm_dims': [13], 'dropout_cnn': 0.5523902214925663, 'regularization_rate': 0.006152244288828703, 'learning_rate': 0.04833768110451007, 'dropout': None, 'filters': []}\n",
      "{'dropout_rnn': 0.4380184176976481, 'lstm_dims': [97], 'dropout_cnn': 0.3400918752611701, 'regularization_rate': 0.007753354581057018, 'learning_rate': 0.0001557840667876662, 'dropout': None, 'filters': []}\n",
      "{'dropout_rnn': 0.6035622719400386, 'lstm_dims': [55], 'dropout_cnn': 0.718212222722473, 'regularization_rate': 0.019046028695682407, 'learning_rate': 0.0003767708988750081, 'dropout': None, 'filters': []}\n",
      "{'dropout_rnn': 0.3439495787446311, 'lstm_dims': [48], 'dropout_cnn': 0.7240846950626598, 'regularization_rate': 0.000562685706465662, 'learning_rate': 0.0002634793652877081, 'dropout': None, 'filters': []}\n",
      "{'dropout_rnn': 0.35151449204130886, 'lstm_dims': [34], 'dropout_cnn': 0.5803278705660002, 'regularization_rate': 0.0023468525534849813, 'learning_rate': 0.009503241453576032, 'dropout': None, 'filters': []}\n",
      "{'dropout_rnn': 0.266307924160756, 'lstm_dims': [82], 'dropout_cnn': 0.418594554985435, 'regularization_rate': 0.0001270264127537927, 'learning_rate': 0.038802777118373495, 'dropout': None, 'filters': []}\n",
      "{'dropout_rnn': 0.8971534101852274, 'lstm_dims': [25], 'dropout_cnn': 0.7552120116305159, 'regularization_rate': 0.0020170275526132935, 'learning_rate': 0.08879037269482255, 'dropout': None, 'filters': []}\n",
      "{'dropout_rnn': 0.48078439710966836, 'lstm_dims': [27], 'dropout_cnn': 0.8487275241008754, 'regularization_rate': 0.0002853934446117709, 'learning_rate': 0.019851781243883464, 'dropout': None, 'filters': []}\n",
      "{'dropout_rnn': 0.6344040727908554, 'lstm_dims': [78], 'dropout_cnn': 0.5617974831703837, 'regularization_rate': 0.0002494929875461446, 'learning_rate': 0.001254772704776421, 'dropout': None, 'filters': []}\n",
      "{'dropout_rnn': 0.6735736767920437, 'lstm_dims': [89], 'dropout_cnn': 0.7016792670439818, 'regularization_rate': 0.00015101000200672034, 'learning_rate': 0.0008611965977693585, 'dropout': None, 'filters': []}\n",
      "{'dropout_rnn': 0.7911818393434737, 'lstm_dims': [38], 'dropout_cnn': 0.3936853582686675, 'regularization_rate': 0.0014682966349828057, 'learning_rate': 0.0010034237507811205, 'dropout': None, 'filters': []}\n",
      "{'dropout_rnn': 0.6864796580770505, 'lstm_dims': [43], 'dropout_cnn': 0.20000263561956416, 'regularization_rate': 0.04145715346410471, 'learning_rate': 0.00013889314865486483, 'dropout': None, 'filters': []}\n",
      "{'dropout_rnn': 0.8559761828010413, 'lstm_dims': [83], 'dropout_cnn': 0.6511121834954259, 'regularization_rate': 0.011530109037586332, 'learning_rate': 0.0023572375692136943, 'dropout': None, 'filters': []}\n",
      "{'dropout_rnn': 0.6156672119091922, 'lstm_dims': [25], 'dropout_cnn': 0.46965758605479274, 'regularization_rate': 0.000381268969873305, 'learning_rate': 0.00010853022712385972, 'dropout': None, 'filters': []}\n",
      "{'dropout_rnn': 0.8330878175000598, 'lstm_dims': [81], 'dropout_cnn': 0.32261295492782, 'regularization_rate': 0.0025216251912876034, 'learning_rate': 0.009786483166775849, 'dropout': None, 'filters': []}\n",
      "{'dropout_rnn': 0.2425773560814804, 'lstm_dims': [47], 'dropout_cnn': 0.7119663262974107, 'regularization_rate': 0.00329710270303354, 'learning_rate': 0.006908720840101142, 'dropout': None, 'filters': []}\n",
      "{'dropout_rnn': 0.6183999489368174, 'lstm_dims': [35], 'dropout_cnn': 0.7001812315215878, 'regularization_rate': 0.002622564349734368, 'learning_rate': 0.01623616972163716, 'dropout': None, 'filters': []}\n",
      "{'dropout_rnn': 0.6606699684014155, 'lstm_dims': [41], 'dropout_cnn': 0.6525371775108655, 'regularization_rate': 0.002067322941059679, 'learning_rate': 0.002767184078040218, 'dropout': None, 'filters': []}\n",
      "{'dropout_rnn': 0.7775628709171682, 'lstm_dims': [53], 'dropout_cnn': 0.8123698062689715, 'regularization_rate': 0.016167327320197964, 'learning_rate': 0.0001349761477971871, 'dropout': None, 'filters': []}\n",
      "{'dropout_rnn': 0.7647959859450768, 'lstm_dims': [97], 'dropout_cnn': 0.6729994277651123, 'regularization_rate': 0.010437117471589227, 'learning_rate': 0.013198714806843969, 'dropout': None, 'filters': []}\n",
      "{'dropout_rnn': 0.7544676930271794, 'lstm_dims': [43], 'dropout_cnn': 0.2935926632981489, 'regularization_rate': 0.05938035605813426, 'learning_rate': 0.0031857604931309087, 'dropout': None, 'filters': []}\n",
      "{'dropout_rnn': 0.3923227550774022, 'lstm_dims': [34], 'dropout_cnn': 0.2442291573067329, 'regularization_rate': 0.05068986945455604, 'learning_rate': 0.0008411323821626076, 'dropout': None, 'filters': []}\n",
      "{'dropout_rnn': 0.7109579093180118, 'lstm_dims': [97], 'dropout_cnn': 0.40642916821924024, 'regularization_rate': 0.0030871945442162256, 'learning_rate': 0.0007582987722868406, 'dropout': None, 'filters': []}\n",
      "{'dropout_rnn': 0.4254161924604548, 'lstm_dims': [57], 'dropout_cnn': 0.44245482326846985, 'regularization_rate': 0.028248198056960133, 'learning_rate': 0.00016991635506111903, 'dropout': None, 'filters': []}\n",
      "{'dropout_rnn': 0.22511290510550072, 'lstm_dims': [11], 'dropout_cnn': 0.8243261243539544, 'regularization_rate': 0.0012510237280712786, 'learning_rate': 0.0014165635634882919, 'dropout': None, 'filters': []}\n",
      "{'dropout_rnn': 0.6108781771824925, 'lstm_dims': [96], 'dropout_cnn': 0.65204255128678, 'regularization_rate': 0.030808524428747503, 'learning_rate': 0.004648013067067178, 'dropout': None, 'filters': []}\n",
      "{'dropout_rnn': 0.3711468269414041, 'lstm_dims': [58], 'dropout_cnn': 0.4379183705317643, 'regularization_rate': 0.00035252808729943034, 'learning_rate': 0.03511006409150968, 'dropout': None, 'filters': []}\n",
      "{'dropout_rnn': 0.8952486169473144, 'lstm_dims': [43], 'dropout_cnn': 0.3925935647161861, 'regularization_rate': 0.0019823522372137098, 'learning_rate': 0.002972643394934701, 'dropout': None, 'filters': []}\n",
      "{'dropout_rnn': 0.5818097112602634, 'lstm_dims': [61], 'dropout_cnn': 0.44000538666798006, 'regularization_rate': 0.00014606491828852042, 'learning_rate': 0.010127229172121563, 'dropout': None, 'filters': []}\n",
      "{'dropout_rnn': 0.5889505477447791, 'lstm_dims': [91], 'dropout_cnn': 0.7707376855040624, 'regularization_rate': 0.0013266670910174149, 'learning_rate': 0.00014839736992277778, 'dropout': None, 'filters': []}\n",
      "{'dropout_rnn': 0.427247942152719, 'lstm_dims': [82], 'dropout_cnn': 0.40427884725966656, 'regularization_rate': 0.0038071143400939893, 'learning_rate': 0.0003370386787566061, 'dropout': None, 'filters': []}\n",
      "{'dropout_rnn': 0.29299316389722746, 'lstm_dims': [84], 'dropout_cnn': 0.3284882286964885, 'regularization_rate': 0.0222555483628965, 'learning_rate': 0.007176939174566682, 'dropout': None, 'filters': []}\n",
      "{'dropout_rnn': 0.282964006632835, 'lstm_dims': [14], 'dropout_cnn': 0.6580300449062202, 'regularization_rate': 0.015202440943898814, 'learning_rate': 0.0014675542768071538, 'dropout': None, 'filters': []}\n",
      "{'dropout_rnn': 0.7965445138796814, 'lstm_dims': [99], 'dropout_cnn': 0.8134128796009739, 'regularization_rate': 0.0013236340230836526, 'learning_rate': 0.01046381737003269, 'dropout': None, 'filters': []}\n",
      "{'dropout_rnn': 0.4910668087029366, 'lstm_dims': [20], 'dropout_cnn': 0.8554650777065391, 'regularization_rate': 0.0031143984372261242, 'learning_rate': 0.004634038501203856, 'dropout': None, 'filters': []}\n",
      "{'dropout_rnn': 0.38384759888292197, 'lstm_dims': [38], 'dropout_cnn': 0.27652275868501835, 'regularization_rate': 0.004460295756991141, 'learning_rate': 0.033603146070608034, 'dropout': None, 'filters': []}\n",
      "{'dropout_rnn': 0.39309900854898294, 'lstm_dims': [68], 'dropout_cnn': 0.3923524182788112, 'regularization_rate': 0.031160299389294894, 'learning_rate': 0.002279350118419199, 'dropout': None, 'filters': []}\n",
      "{'dropout_rnn': 0.281498663299469, 'lstm_dims': [83], 'dropout_cnn': 0.4067698539656259, 'regularization_rate': 0.005553392829176748, 'learning_rate': 0.00010578085735547637, 'dropout': None, 'filters': []}\n",
      "{'dropout_rnn': 0.6067717707812776, 'lstm_dims': [75], 'dropout_cnn': 0.2280837148935334, 'regularization_rate': 0.00016658114464106202, 'learning_rate': 0.0018543312757845142, 'dropout': None, 'filters': []}\n",
      "{'dropout_rnn': 0.8212278446200465, 'lstm_dims': [78], 'dropout_cnn': 0.8732411501274038, 'regularization_rate': 0.007999512482347872, 'learning_rate': 0.032185556776172346, 'dropout': None, 'filters': []}\n",
      "{'dropout_rnn': 0.45425337159080587, 'lstm_dims': [97], 'dropout_cnn': 0.7272282862199917, 'regularization_rate': 0.006043203549106879, 'learning_rate': 0.04214729439287515, 'dropout': None, 'filters': []}\n",
      "{'dropout_rnn': 0.6100394387828609, 'lstm_dims': [69], 'dropout_cnn': 0.4664021260043393, 'regularization_rate': 0.0010894737608469443, 'learning_rate': 0.0998825956717372, 'dropout': None, 'filters': []}\n",
      "{'dropout_rnn': 0.5264738562326288, 'lstm_dims': [79], 'dropout_cnn': 0.4099562734291202, 'regularization_rate': 0.0007152216094436247, 'learning_rate': 0.00041779951536016595, 'dropout': None, 'filters': []}\n",
      "{'dropout_rnn': 0.45854784782055336, 'lstm_dims': [15], 'dropout_cnn': 0.281942046379972, 'regularization_rate': 0.06336449691469077, 'learning_rate': 0.014534008444751114, 'dropout': None, 'filters': []}\n",
      "{'dropout_rnn': 0.6976645698048676, 'lstm_dims': [13], 'dropout_cnn': 0.3952112654595407, 'regularization_rate': 0.05092247997846385, 'learning_rate': 0.0005196061158021031, 'dropout': None, 'filters': []}\n",
      "{'dropout_rnn': 0.4928588725576974, 'lstm_dims': [33], 'dropout_cnn': 0.2279155013749086, 'regularization_rate': 0.00019733394263352297, 'learning_rate': 0.0004269761065987975, 'dropout': None, 'filters': []}\n",
      "{'dropout_rnn': 0.25817749743183416, 'lstm_dims': [54], 'dropout_cnn': 0.5575523443334836, 'regularization_rate': 0.013725995655670141, 'learning_rate': 0.00026873326761984686, 'dropout': None, 'filters': []}\n",
      "{'dropout_rnn': 0.4244308408242069, 'lstm_dims': [88], 'dropout_cnn': 0.4312012619817197, 'regularization_rate': 0.06582545833629312, 'learning_rate': 0.03946677851875923, 'dropout': None, 'filters': []}\n",
      "{'dropout_rnn': 0.7718631291818958, 'lstm_dims': [100], 'dropout_cnn': 0.2615939526040237, 'regularization_rate': 0.026655738994734182, 'learning_rate': 0.0002684221021900429, 'dropout': None, 'filters': []}\n",
      "{'dropout_rnn': 0.3838766781097995, 'lstm_dims': [71], 'dropout_cnn': 0.4478856367079404, 'regularization_rate': 0.0006043535357338762, 'learning_rate': 0.00010506479667139579, 'dropout': None, 'filters': []}\n",
      "{'dropout_rnn': 0.6574046793761511, 'lstm_dims': [31], 'dropout_cnn': 0.6208245112795834, 'regularization_rate': 0.00016300021740606847, 'learning_rate': 0.08177384714872357, 'dropout': None, 'filters': []}\n",
      "{'dropout_rnn': 0.7579528151279926, 'lstm_dims': [65], 'dropout_cnn': 0.773799094894565, 'regularization_rate': 0.004842470583506209, 'learning_rate': 0.08827374154415013, 'dropout': None, 'filters': []}\n",
      "{'dropout_rnn': 0.6965099792988814, 'lstm_dims': [75], 'dropout_cnn': 0.5103357136254936, 'regularization_rate': 0.0008506767723881047, 'learning_rate': 0.027745085426731386, 'dropout': None, 'filters': []}\n",
      "{'dropout_rnn': 0.34007210847631597, 'lstm_dims': [40], 'dropout_cnn': 0.4944214961197665, 'regularization_rate': 0.00023023807340706782, 'learning_rate': 0.003299368736144577, 'dropout': None, 'filters': []}\n",
      "{'dropout_rnn': 0.7355516482891038, 'lstm_dims': [37], 'dropout_cnn': 0.8912125255506012, 'regularization_rate': 0.0012114670446130502, 'learning_rate': 0.03713777584657579, 'dropout': None, 'filters': []}\n",
      "{'dropout_rnn': 0.7452000086426123, 'lstm_dims': [86], 'dropout_cnn': 0.38640524807497395, 'regularization_rate': 0.005396867036356196, 'learning_rate': 0.0004918182883146308, 'dropout': None, 'filters': []}\n",
      "{'dropout_rnn': 0.818429372710211, 'lstm_dims': [36], 'dropout_cnn': 0.2684573447437222, 'regularization_rate': 0.01294379456332546, 'learning_rate': 0.0023484200662129695, 'dropout': None, 'filters': []}\n",
      "{'dropout_rnn': 0.7772533072227972, 'lstm_dims': [66], 'dropout_cnn': 0.7222459255072193, 'regularization_rate': 0.022086693658887532, 'learning_rate': 0.06529526101515262, 'dropout': None, 'filters': []}\n",
      "{'dropout_rnn': 0.56578506695027, 'lstm_dims': [41], 'dropout_cnn': 0.33133780021163994, 'regularization_rate': 0.0023060951987381906, 'learning_rate': 0.001244817488677753, 'dropout': None, 'filters': []}\n",
      "{'dropout_rnn': 0.30872367861419514, 'lstm_dims': [91], 'dropout_cnn': 0.37106120551395894, 'regularization_rate': 0.004941687850848502, 'learning_rate': 0.0003150547659603982, 'dropout': None, 'filters': []}\n",
      "{'dropout_rnn': 0.5115082810612391, 'lstm_dims': [60], 'dropout_cnn': 0.3117073358445668, 'regularization_rate': 0.0005186909708236739, 'learning_rate': 0.0017663692866490305, 'dropout': None, 'filters': []}\n",
      "{'dropout_rnn': 0.6924511174232268, 'lstm_dims': [74], 'dropout_cnn': 0.47923339813838245, 'regularization_rate': 0.003324068427215789, 'learning_rate': 0.061294278224197495, 'dropout': None, 'filters': []}\n",
      "{'dropout_rnn': 0.7447216044481404, 'lstm_dims': [94], 'dropout_cnn': 0.7222743712422064, 'regularization_rate': 0.00010774600925055245, 'learning_rate': 0.03999993321980904, 'dropout': None, 'filters': []}\n",
      "{'dropout_rnn': 0.6639323171162537, 'lstm_dims': [18], 'dropout_cnn': 0.46138104766941973, 'regularization_rate': 0.09082784429524235, 'learning_rate': 0.0043910677989932225, 'dropout': None, 'filters': []}\n",
      "{'dropout_rnn': 0.7484381796166777, 'lstm_dims': [11], 'dropout_cnn': 0.7665688498250938, 'regularization_rate': 0.002011657495966687, 'learning_rate': 0.0135515999059337, 'dropout': None, 'filters': []}\n",
      "{'dropout_rnn': 0.35780807092009215, 'lstm_dims': [79], 'dropout_cnn': 0.23332350583370873, 'regularization_rate': 0.006105546502147141, 'learning_rate': 0.00020515482531380138, 'dropout': None, 'filters': []}\n",
      "{'dropout_rnn': 0.8366702838719247, 'lstm_dims': [65], 'dropout_cnn': 0.32454887846700853, 'regularization_rate': 0.0013107717376257908, 'learning_rate': 0.005584053080125758, 'dropout': None, 'filters': []}\n",
      "{'dropout_rnn': 0.7839563178365101, 'lstm_dims': [66], 'dropout_cnn': 0.6379135382923091, 'regularization_rate': 0.0010512113281881137, 'learning_rate': 0.032463509573129455, 'dropout': None, 'filters': []}\n",
      "{'dropout_rnn': 0.42786007235326384, 'lstm_dims': [63], 'dropout_cnn': 0.41518131151102894, 'regularization_rate': 0.0019313681427528414, 'learning_rate': 0.015592593230092674, 'dropout': None, 'filters': []}\n",
      "{'dropout_rnn': 0.5402974550561228, 'lstm_dims': [55], 'dropout_cnn': 0.3739774400832019, 'regularization_rate': 0.00015774936464098854, 'learning_rate': 0.0001917076197779581, 'dropout': None, 'filters': []}\n",
      "{'dropout_rnn': 0.25895134614843035, 'lstm_dims': [94], 'dropout_cnn': 0.4027138979876019, 'regularization_rate': 0.00019515429377488816, 'learning_rate': 0.0049249384882274275, 'dropout': None, 'filters': []}\n",
      "{'dropout_rnn': 0.20980300123528048, 'lstm_dims': [61], 'dropout_cnn': 0.22160546942250584, 'regularization_rate': 0.03725118474427853, 'learning_rate': 0.01226120076421078, 'dropout': None, 'filters': []}\n",
      "{'dropout_rnn': 0.8769543964458926, 'lstm_dims': [46], 'dropout_cnn': 0.7154822127876714, 'regularization_rate': 0.024759820365821625, 'learning_rate': 0.03685732028307752, 'dropout': None, 'filters': []}\n",
      "{'dropout_rnn': 0.4797965788045003, 'lstm_dims': [54], 'dropout_cnn': 0.8059896285235879, 'regularization_rate': 0.00868410238366795, 'learning_rate': 0.0010235749710490582, 'dropout': None, 'filters': []}\n",
      "{'dropout_rnn': 0.34916780182830914, 'lstm_dims': [24], 'dropout_cnn': 0.48163845372358927, 'regularization_rate': 0.0010171820054210988, 'learning_rate': 0.003966946206452136, 'dropout': None, 'filters': []}\n",
      "{'dropout_rnn': 0.7714602435224189, 'lstm_dims': [11], 'dropout_cnn': 0.3547564662375375, 'regularization_rate': 0.0007915360792958468, 'learning_rate': 0.03004455994010282, 'dropout': None, 'filters': []}\n",
      "{'dropout_rnn': 0.8304848079923453, 'lstm_dims': [99], 'dropout_cnn': 0.6355560425234412, 'regularization_rate': 0.017233622356541044, 'learning_rate': 0.00023485436403863764, 'dropout': None, 'filters': []}\n",
      "{'dropout_rnn': 0.828270258194933, 'lstm_dims': [52], 'dropout_cnn': 0.5570132675933652, 'regularization_rate': 0.005430837904385715, 'learning_rate': 0.019994773745313988, 'dropout': None, 'filters': []}\n",
      "{'dropout_rnn': 0.3014089754943622, 'lstm_dims': [12], 'dropout_cnn': 0.7149030861496339, 'regularization_rate': 0.0003913914591497953, 'learning_rate': 0.0008474401616210675, 'dropout': None, 'filters': []}\n",
      "{'dropout_rnn': 0.485767212429782, 'lstm_dims': [37], 'dropout_cnn': 0.7214918238846377, 'regularization_rate': 0.022838904156484215, 'learning_rate': 0.0005522280253285756, 'dropout': None, 'filters': []}\n",
      "{'dropout_rnn': 0.4822493575804056, 'lstm_dims': [91], 'dropout_cnn': 0.7639875677477093, 'regularization_rate': 0.0002094275873199941, 'learning_rate': 0.08205575981836025, 'dropout': None, 'filters': []}\n",
      "{'dropout_rnn': 0.7438718586511637, 'lstm_dims': [86], 'dropout_cnn': 0.2714290267874983, 'regularization_rate': 0.0004953064400603861, 'learning_rate': 0.005655418531883468, 'dropout': None, 'filters': []}\n",
      "{'dropout_rnn': 0.6711920561431156, 'lstm_dims': [36], 'dropout_cnn': 0.23129429682090313, 'regularization_rate': 0.02307646549522847, 'learning_rate': 0.0008399843775744899, 'dropout': None, 'filters': []}\n",
      "{'dropout_rnn': 0.7625354880438555, 'lstm_dims': [53], 'dropout_cnn': 0.6281521361507145, 'regularization_rate': 0.03132629690988139, 'learning_rate': 0.0002864916586163381, 'dropout': None, 'filters': []}\n",
      "{'dropout_rnn': 0.8300804157203641, 'lstm_dims': [96], 'dropout_cnn': 0.3104717681667113, 'regularization_rate': 0.028496112590967543, 'learning_rate': 0.0006075192179592205, 'dropout': None, 'filters': []}\n",
      "{'dropout_rnn': 0.7592851749021032, 'lstm_dims': [90], 'dropout_cnn': 0.7590258216178256, 'regularization_rate': 0.015208126520454245, 'learning_rate': 0.0184592259662603, 'dropout': None, 'filters': []}\n",
      "{'dropout_rnn': 0.45354930344874433, 'lstm_dims': [83], 'dropout_cnn': 0.7031180255971547, 'regularization_rate': 0.020037280938130262, 'learning_rate': 0.09344509481606146, 'dropout': None, 'filters': []}\n",
      "{'dropout_rnn': 0.8489930811408823, 'lstm_dims': [66], 'dropout_cnn': 0.7263866967360744, 'regularization_rate': 0.002082566624897987, 'learning_rate': 0.00013393500853276988, 'dropout': None, 'filters': []}\n",
      "{'dropout_rnn': 0.7736719652190855, 'lstm_dims': [59], 'dropout_cnn': 0.691620238679544, 'regularization_rate': 0.00037998636035713635, 'learning_rate': 0.009545102362759102, 'dropout': None, 'filters': []}\n",
      "{'dropout_rnn': 0.8125624335981025, 'lstm_dims': [94], 'dropout_cnn': 0.5629201470731917, 'regularization_rate': 0.0015046317206403844, 'learning_rate': 0.0020147606791848776, 'dropout': None, 'filters': []}\n",
      "{'dropout_rnn': 0.4540717147223023, 'lstm_dims': [18], 'dropout_cnn': 0.39448370443659275, 'regularization_rate': 0.01585891785305868, 'learning_rate': 0.00534596159767437, 'dropout': None, 'filters': []}\n",
      "{'dropout_rnn': 0.49594615845890955, 'lstm_dims': [35], 'dropout_cnn': 0.2676247852297008, 'regularization_rate': 0.03850160402371354, 'learning_rate': 0.007335140312203048, 'dropout': None, 'filters': []}\n",
      "{'dropout_rnn': 0.8824602351383617, 'lstm_dims': [28], 'dropout_cnn': 0.5918317894548926, 'regularization_rate': 0.0006755787507746297, 'learning_rate': 0.00027290049847596273, 'dropout': None, 'filters': []}\n",
      "{'dropout_rnn': 0.8030200829933161, 'lstm_dims': [37], 'dropout_cnn': 0.8319322590658371, 'regularization_rate': 0.04032507891394656, 'learning_rate': 0.010890880619438988, 'dropout': None, 'filters': []}\n",
      "{'dropout_rnn': 0.29088935414943584, 'lstm_dims': [22], 'dropout_cnn': 0.5829083922298068, 'regularization_rate': 0.004071385450672043, 'learning_rate': 0.00013727901858119867, 'dropout': None, 'filters': []}\n",
      "{'dropout_rnn': 0.3290452046490694, 'lstm_dims': [58], 'dropout_cnn': 0.6709729500314893, 'regularization_rate': 0.002299955524885915, 'learning_rate': 0.003499748720037794, 'dropout': None, 'filters': []}\n",
      "{'dropout_rnn': 0.3404425431221314, 'lstm_dims': [77], 'dropout_cnn': 0.6257909210830468, 'regularization_rate': 0.0006439220539100637, 'learning_rate': 0.04512377034917191, 'dropout': None, 'filters': []}\n",
      "{'dropout_rnn': 0.7629290620096183, 'lstm_dims': [65], 'dropout_cnn': 0.5632193744880418, 'regularization_rate': 0.0008632260236230668, 'learning_rate': 0.07570891589750904, 'dropout': None, 'filters': []}\n",
      "{'dropout_rnn': 0.7508800593197946, 'lstm_dims': [50], 'dropout_cnn': 0.3319662562561626, 'regularization_rate': 0.06724761309858762, 'learning_rate': 0.000325885653441915, 'dropout': None, 'filters': []}\n",
      "{'dropout_rnn': 0.4650308860410288, 'lstm_dims': [42], 'dropout_cnn': 0.4587411435026598, 'regularization_rate': 0.040384919861907426, 'learning_rate': 0.0017578311999178766, 'dropout': None, 'filters': []}\n",
      "{'dropout_rnn': 0.6832832576117058, 'lstm_dims': [21], 'dropout_cnn': 0.5945544103012654, 'regularization_rate': 0.013991964939041479, 'learning_rate': 0.00021125408973911435, 'dropout': None, 'filters': []}\n",
      "{'dropout_rnn': 0.6912739427446088, 'lstm_dims': [87], 'dropout_cnn': 0.887401082744347, 'regularization_rate': 0.002938318753718419, 'learning_rate': 0.021513034741834008, 'dropout': None, 'filters': []}\n",
      "{'dropout_rnn': 0.42268837016293725, 'lstm_dims': [26], 'dropout_cnn': 0.45198933734088037, 'regularization_rate': 0.0002033506161633623, 'learning_rate': 0.09122735962846885, 'dropout': None, 'filters': []}\n",
      "{'dropout_rnn': 0.6297416701500052, 'lstm_dims': [81], 'dropout_cnn': 0.3765689856569471, 'regularization_rate': 0.005420011446523038, 'learning_rate': 0.0003415172822089372, 'dropout': None, 'filters': []}\n",
      "{'dropout_rnn': 0.24211349372009106, 'lstm_dims': [57], 'dropout_cnn': 0.47022696105314327, 'regularization_rate': 0.0014207676520080331, 'learning_rate': 0.021102582046231215, 'dropout': None, 'filters': []}\n",
      "{'dropout_rnn': 0.8198850450630888, 'lstm_dims': [53], 'dropout_cnn': 0.2005577937449178, 'regularization_rate': 0.0019469703931137604, 'learning_rate': 0.0003119252380943528, 'dropout': None, 'filters': []}\n",
      "{'dropout_rnn': 0.5147209013831275, 'lstm_dims': [68], 'dropout_cnn': 0.5719395963139918, 'regularization_rate': 0.029567034628880138, 'learning_rate': 0.0024030828830178294, 'dropout': None, 'filters': []}\n",
      "{'dropout_rnn': 0.5451822725923097, 'lstm_dims': [67], 'dropout_cnn': 0.8301252992983974, 'regularization_rate': 0.0009050715384038884, 'learning_rate': 0.00010006828641203152, 'dropout': None, 'filters': []}\n",
      "{'dropout_rnn': 0.8776679140675738, 'lstm_dims': [20], 'dropout_cnn': 0.6360022241022634, 'regularization_rate': 0.0008477144393182782, 'learning_rate': 0.0004825247741147925, 'dropout': None, 'filters': []}\n",
      "{'dropout_rnn': 0.35940776554557513, 'lstm_dims': [100], 'dropout_cnn': 0.4085353691258714, 'regularization_rate': 0.04881803459842604, 'learning_rate': 0.00117040707874571, 'dropout': None, 'filters': []}\n",
      "{'dropout_rnn': 0.6486093642299724, 'lstm_dims': [10], 'dropout_cnn': 0.5178330282794843, 'regularization_rate': 0.08348059856465619, 'learning_rate': 0.001874377192392585, 'dropout': None, 'filters': []}\n",
      "{'dropout_rnn': 0.42547698435272335, 'lstm_dims': [23], 'dropout_cnn': 0.35817883961118535, 'regularization_rate': 0.048485692252535975, 'learning_rate': 0.00015585130037358368, 'dropout': None, 'filters': []}\n",
      "{'dropout_rnn': 0.20530486345359794, 'lstm_dims': [59], 'dropout_cnn': 0.2034994497498207, 'regularization_rate': 0.060013141254313805, 'learning_rate': 0.0011523057443513893, 'dropout': None, 'filters': []}\n",
      "{'dropout_rnn': 0.4273165782151004, 'lstm_dims': [13], 'dropout_cnn': 0.5043039632493739, 'regularization_rate': 0.0003898355833481207, 'learning_rate': 0.0052125425653069095, 'dropout': None, 'filters': []}\n",
      "{'dropout_rnn': 0.8713941510570844, 'lstm_dims': [93], 'dropout_cnn': 0.39466443124397455, 'regularization_rate': 0.007189062572175619, 'learning_rate': 0.07267460265767547, 'dropout': None, 'filters': []}\n",
      "{'dropout_rnn': 0.45106974874730016, 'lstm_dims': [30], 'dropout_cnn': 0.36534512622895077, 'regularization_rate': 0.035101084506076824, 'learning_rate': 0.00012258019988559276, 'dropout': None, 'filters': []}\n",
      "{'dropout_rnn': 0.28420414561336943, 'lstm_dims': [14], 'dropout_cnn': 0.4871656395527793, 'regularization_rate': 0.0003904034730816576, 'learning_rate': 0.004739609737074158, 'dropout': None, 'filters': []}\n",
      "{'dropout_rnn': 0.7206227788799395, 'lstm_dims': [94], 'dropout_cnn': 0.5378753272445016, 'regularization_rate': 0.00025523953588971746, 'learning_rate': 0.00011021249383004104, 'dropout': None, 'filters': []}\n",
      "{'dropout_rnn': 0.2377120248335745, 'lstm_dims': [56], 'dropout_cnn': 0.26681502507327864, 'regularization_rate': 0.02303288794870633, 'learning_rate': 0.00068377796436152, 'dropout': None, 'filters': []}\n",
      "{'dropout_rnn': 0.6663479384032933, 'lstm_dims': [98], 'dropout_cnn': 0.8505300760936871, 'regularization_rate': 0.03884298538373785, 'learning_rate': 0.0003926506042667393, 'dropout': None, 'filters': []}\n",
      "{'dropout_rnn': 0.24852210932739277, 'lstm_dims': [34], 'dropout_cnn': 0.8044991164763136, 'regularization_rate': 0.008586442353088856, 'learning_rate': 0.0005267727381920309, 'dropout': None, 'filters': []}\n",
      "{'dropout_rnn': 0.7651394507251688, 'lstm_dims': [62], 'dropout_cnn': 0.45287687172413926, 'regularization_rate': 0.04171362303917163, 'learning_rate': 0.003753245385982617, 'dropout': None, 'filters': []}\n",
      "{'dropout_rnn': 0.30093956583764714, 'lstm_dims': [45], 'dropout_cnn': 0.5774287889348193, 'regularization_rate': 0.001574540310633195, 'learning_rate': 0.02820606168346708, 'dropout': None, 'filters': []}\n",
      "{'dropout_rnn': 0.814979470333496, 'lstm_dims': [68], 'dropout_cnn': 0.7439342098039654, 'regularization_rate': 0.007343558622171883, 'learning_rate': 0.00014228419654066567, 'dropout': None, 'filters': []}\n",
      "{'dropout_rnn': 0.7470243690728906, 'lstm_dims': [74], 'dropout_cnn': 0.38290836585793475, 'regularization_rate': 0.00037428225804246, 'learning_rate': 0.00028200259944822554, 'dropout': None, 'filters': []}\n",
      "{'dropout_rnn': 0.8690598309872268, 'lstm_dims': [95], 'dropout_cnn': 0.4676439624756789, 'regularization_rate': 0.008948132688594563, 'learning_rate': 0.0023299516755525686, 'dropout': None, 'filters': []}\n",
      "{'dropout_rnn': 0.49529294086209485, 'lstm_dims': [36], 'dropout_cnn': 0.6769936584397962, 'regularization_rate': 0.00024463871371628853, 'learning_rate': 0.010089879075957684, 'dropout': None, 'filters': []}\n",
      "{'dropout_rnn': 0.346622699585893, 'lstm_dims': [71], 'dropout_cnn': 0.8927273229511545, 'regularization_rate': 0.00013060362428109123, 'learning_rate': 0.008094946311066558, 'dropout': None, 'filters': []}\n",
      "{'dropout_rnn': 0.5849374098151334, 'lstm_dims': [16], 'dropout_cnn': 0.6538321651807217, 'regularization_rate': 0.04206745479294533, 'learning_rate': 0.0018829408920059618, 'dropout': None, 'filters': []}\n",
      "{'dropout_rnn': 0.28311292168625346, 'lstm_dims': [39], 'dropout_cnn': 0.44726596919515604, 'regularization_rate': 0.002526153745943943, 'learning_rate': 0.00010251957198631332, 'dropout': None, 'filters': []}\n",
      "{'dropout_rnn': 0.3301225628957407, 'lstm_dims': [71], 'dropout_cnn': 0.23060910607400603, 'regularization_rate': 0.00022152222667008029, 'learning_rate': 0.0074100697898986205, 'dropout': None, 'filters': []}\n",
      "{'dropout_rnn': 0.22157233994459297, 'lstm_dims': [81], 'dropout_cnn': 0.8458967518511924, 'regularization_rate': 0.00029144223540300996, 'learning_rate': 0.005597889864037779, 'dropout': None, 'filters': []}\n",
      "{'dropout_rnn': 0.22379034145293725, 'lstm_dims': [73], 'dropout_cnn': 0.21834960033688677, 'regularization_rate': 0.002038392101220196, 'learning_rate': 0.0007484389486981276, 'dropout': None, 'filters': []}\n",
      "{'dropout_rnn': 0.4311139937041546, 'lstm_dims': [45], 'dropout_cnn': 0.6030395194590561, 'regularization_rate': 0.000562983158460559, 'learning_rate': 0.0005628547851155044, 'dropout': None, 'filters': []}\n",
      "{'dropout_rnn': 0.678134357475018, 'lstm_dims': [52], 'dropout_cnn': 0.8358361135375136, 'regularization_rate': 0.05068860447306152, 'learning_rate': 0.0003045517781095141, 'dropout': None, 'filters': []}\n",
      "{'dropout_rnn': 0.4889538006387251, 'lstm_dims': [25], 'dropout_cnn': 0.21447156445583038, 'regularization_rate': 0.036036616273977, 'learning_rate': 0.00021868887266625027, 'dropout': None, 'filters': []}\n",
      "{'dropout_rnn': 0.42534385704507616, 'lstm_dims': [43], 'dropout_cnn': 0.812645880813009, 'regularization_rate': 0.000954659647082732, 'learning_rate': 0.0004099775909869034, 'dropout': None, 'filters': []}\n",
      "{'dropout_rnn': 0.7057017654436673, 'lstm_dims': [43], 'dropout_cnn': 0.34406846888525777, 'regularization_rate': 0.023722792279797282, 'learning_rate': 0.00016485229501813083, 'dropout': None, 'filters': []}\n",
      "{'dropout_rnn': 0.575134585466512, 'lstm_dims': [79], 'dropout_cnn': 0.6764325406460506, 'regularization_rate': 0.00021792253047162938, 'learning_rate': 0.00017727967396400512, 'dropout': None, 'filters': []}\n",
      "{'dropout_rnn': 0.8173994326873837, 'lstm_dims': [75], 'dropout_cnn': 0.5254124065634362, 'regularization_rate': 0.0009688789129130495, 'learning_rate': 0.0012284147234398672, 'dropout': None, 'filters': []}\n",
      "{'dropout_rnn': 0.357819436407417, 'lstm_dims': [63], 'dropout_cnn': 0.437770063488256, 'regularization_rate': 0.00035665300936100136, 'learning_rate': 0.007633246864472246, 'dropout': None, 'filters': []}\n",
      "{'dropout_rnn': 0.3949278732384134, 'lstm_dims': [58], 'dropout_cnn': 0.304592290595993, 'regularization_rate': 0.00033926450699628733, 'learning_rate': 0.041692051242402134, 'dropout': None, 'filters': []}\n",
      "{'dropout_rnn': 0.7482251910748536, 'lstm_dims': [21], 'dropout_cnn': 0.40682389501957433, 'regularization_rate': 0.09370457670260039, 'learning_rate': 0.03129103891309547, 'dropout': None, 'filters': []}\n",
      "{'dropout_rnn': 0.3113266940188115, 'lstm_dims': [73], 'dropout_cnn': 0.34858778142758556, 'regularization_rate': 0.0030051857578341575, 'learning_rate': 0.00550304736669609, 'dropout': None, 'filters': []}\n",
      "{'dropout_rnn': 0.5579521879240332, 'lstm_dims': [51], 'dropout_cnn': 0.2984417581981687, 'regularization_rate': 0.00012270125470868057, 'learning_rate': 0.024542420848428163, 'dropout': None, 'filters': []}\n",
      "{'dropout_rnn': 0.8134031550487952, 'lstm_dims': [19], 'dropout_cnn': 0.25946902102993646, 'regularization_rate': 0.0614915048968633, 'learning_rate': 0.0001396288958248688, 'dropout': None, 'filters': []}\n",
      "{'dropout_rnn': 0.7488309529714063, 'lstm_dims': [77], 'dropout_cnn': 0.39109507508221886, 'regularization_rate': 0.0009143851100509837, 'learning_rate': 0.042566644076777876, 'dropout': None, 'filters': []}\n",
      "{'dropout_rnn': 0.6216655142002603, 'lstm_dims': [78], 'dropout_cnn': 0.29755380638777384, 'regularization_rate': 0.00028896999104323926, 'learning_rate': 0.0006477583810736462, 'dropout': None, 'filters': []}\n",
      "{'dropout_rnn': 0.5168548540797311, 'lstm_dims': [65], 'dropout_cnn': 0.28216037448018494, 'regularization_rate': 0.01783615030022641, 'learning_rate': 0.017561616862438022, 'dropout': None, 'filters': []}\n",
      "{'dropout_rnn': 0.627340377413464, 'lstm_dims': [86], 'dropout_cnn': 0.5052722844683499, 'regularization_rate': 0.0005876780685253585, 'learning_rate': 0.0005575100100053252, 'dropout': None, 'filters': []}\n",
      "{'dropout_rnn': 0.5734843597691677, 'lstm_dims': [96], 'dropout_cnn': 0.4864538893637431, 'regularization_rate': 0.003620001587867149, 'learning_rate': 0.006128498953366087, 'dropout': None, 'filters': []}\n",
      "{'dropout_rnn': 0.2713610365740789, 'lstm_dims': [23], 'dropout_cnn': 0.5894166657821303, 'regularization_rate': 0.0022265489787480336, 'learning_rate': 0.01920192379189771, 'dropout': None, 'filters': []}\n",
      "{'dropout_rnn': 0.7669700768230057, 'lstm_dims': [54], 'dropout_cnn': 0.38598686170930513, 'regularization_rate': 0.0052210953538553056, 'learning_rate': 0.004866850508677106, 'dropout': None, 'filters': []}\n",
      "{'dropout_rnn': 0.7426345989295062, 'lstm_dims': [80], 'dropout_cnn': 0.8737116238284688, 'regularization_rate': 0.00029048878805786445, 'learning_rate': 0.0036930584088835316, 'dropout': None, 'filters': []}\n",
      "{'dropout_rnn': 0.7658996542766363, 'lstm_dims': [67], 'dropout_cnn': 0.20039315373736205, 'regularization_rate': 0.006161797881188949, 'learning_rate': 0.0004955407876489862, 'dropout': None, 'filters': []}\n",
      "{'dropout_rnn': 0.6170165619350854, 'lstm_dims': [12], 'dropout_cnn': 0.2614126488344101, 'regularization_rate': 0.001894510716680873, 'learning_rate': 0.0017229260876762819, 'dropout': None, 'filters': []}\n",
      "{'dropout_rnn': 0.8876443725690923, 'lstm_dims': [16], 'dropout_cnn': 0.713837799751126, 'regularization_rate': 0.023523262105453708, 'learning_rate': 0.0021882116382446054, 'dropout': None, 'filters': []}\n",
      "{'dropout_rnn': 0.3496331336114935, 'lstm_dims': [33], 'dropout_cnn': 0.838421128689461, 'regularization_rate': 0.002938982072833728, 'learning_rate': 0.0018619940834599341, 'dropout': None, 'filters': []}\n",
      "{'dropout_rnn': 0.26563258052946326, 'lstm_dims': [70], 'dropout_cnn': 0.4740101031133683, 'regularization_rate': 0.0002767728827313313, 'learning_rate': 0.0021273690660819707, 'dropout': None, 'filters': []}\n",
      "{'dropout_rnn': 0.6089765093405171, 'lstm_dims': [36], 'dropout_cnn': 0.840821863470316, 'regularization_rate': 0.00023303150757216548, 'learning_rate': 0.09346238383743467, 'dropout': None, 'filters': []}\n",
      "{'dropout_rnn': 0.5144908200972118, 'lstm_dims': [42], 'dropout_cnn': 0.830734112531448, 'regularization_rate': 0.06241176064503406, 'learning_rate': 0.017159390305468904, 'dropout': None, 'filters': []}\n",
      "{'dropout_rnn': 0.24169222116654826, 'lstm_dims': [30], 'dropout_cnn': 0.6787489190223458, 'regularization_rate': 0.040767723633994994, 'learning_rate': 0.03032838375048083, 'dropout': None, 'filters': []}\n",
      "{'dropout_rnn': 0.41258733549996546, 'lstm_dims': [60], 'dropout_cnn': 0.7862066162062971, 'regularization_rate': 0.009873136404761423, 'learning_rate': 0.052730897173754135, 'dropout': None, 'filters': []}\n",
      "{'dropout_rnn': 0.2232956447460814, 'lstm_dims': [63], 'dropout_cnn': 0.631394449565732, 'regularization_rate': 0.010666144383369299, 'learning_rate': 0.041236501125178404, 'dropout': None, 'filters': []}\n",
      "{'dropout_rnn': 0.7473664399967577, 'lstm_dims': [66], 'dropout_cnn': 0.46325251570992426, 'regularization_rate': 0.029288284313974, 'learning_rate': 0.0009963625384541727, 'dropout': None, 'filters': []}\n",
      "{'dropout_rnn': 0.6951170420385353, 'lstm_dims': [59], 'dropout_cnn': 0.6826754221125584, 'regularization_rate': 0.0001225705945353977, 'learning_rate': 0.006998056363273472, 'dropout': None, 'filters': []}\n",
      "{'dropout_rnn': 0.28050411933578395, 'lstm_dims': [20], 'dropout_cnn': 0.5381450457437469, 'regularization_rate': 0.05579577755028605, 'learning_rate': 0.08911804560921761, 'dropout': None, 'filters': []}\n",
      "{'dropout_rnn': 0.23331234520962957, 'lstm_dims': [61], 'dropout_cnn': 0.344101102432182, 'regularization_rate': 0.06134240628687374, 'learning_rate': 0.00023634633762189237, 'dropout': None, 'filters': []}\n",
      "{'dropout_rnn': 0.48621410849910646, 'lstm_dims': [36], 'dropout_cnn': 0.7783515009834072, 'regularization_rate': 0.007701932596533184, 'learning_rate': 0.0014528035772199501, 'dropout': None, 'filters': []}\n",
      "{'dropout_rnn': 0.2766407059666095, 'lstm_dims': [69], 'dropout_cnn': 0.688434837913956, 'regularization_rate': 0.03358918194269818, 'learning_rate': 0.0026806055015982794, 'dropout': None, 'filters': []}\n",
      "{'dropout_rnn': 0.7068867071154683, 'lstm_dims': [82], 'dropout_cnn': 0.21078092299575976, 'regularization_rate': 0.00018973757917442935, 'learning_rate': 0.0007822257761458957, 'dropout': None, 'filters': []}\n",
      "{'dropout_rnn': 0.7079270598573042, 'lstm_dims': [40], 'dropout_cnn': 0.8938814448296313, 'regularization_rate': 0.04318429989889019, 'learning_rate': 0.006990916712176769, 'dropout': None, 'filters': []}\n",
      "{'dropout_rnn': 0.8526226402130146, 'lstm_dims': [95], 'dropout_cnn': 0.7697505528729847, 'regularization_rate': 0.0023042072658299453, 'learning_rate': 0.0018924240732298553, 'dropout': None, 'filters': []}\n",
      "{'dropout_rnn': 0.3111899720433747, 'lstm_dims': [13], 'dropout_cnn': 0.8323691021682813, 'regularization_rate': 0.0019175756004760432, 'learning_rate': 0.012088480237949775, 'dropout': None, 'filters': []}\n",
      "{'dropout_rnn': 0.6910551400190195, 'lstm_dims': [87], 'dropout_cnn': 0.7804240414677834, 'regularization_rate': 0.019566813164309877, 'learning_rate': 0.0029517306540083753, 'dropout': None, 'filters': []}\n",
      "{'dropout_rnn': 0.36363174043762747, 'lstm_dims': [86], 'dropout_cnn': 0.2191974309745195, 'regularization_rate': 0.0003924164410048318, 'learning_rate': 0.010693637772112777, 'dropout': None, 'filters': []}\n",
      "{'dropout_rnn': 0.6685234104594862, 'lstm_dims': [86], 'dropout_cnn': 0.8383583102213117, 'regularization_rate': 0.0015827459618463018, 'learning_rate': 0.06951771015513049, 'dropout': None, 'filters': []}\n",
      "{'dropout_rnn': 0.412510899713743, 'lstm_dims': [23], 'dropout_cnn': 0.7556337541973657, 'regularization_rate': 0.0021691784532542496, 'learning_rate': 0.00015615886898551272, 'dropout': None, 'filters': []}\n",
      "{'dropout_rnn': 0.5944865171823862, 'lstm_dims': [18], 'dropout_cnn': 0.671984862803312, 'regularization_rate': 0.004470599681982667, 'learning_rate': 0.08664980301735738, 'dropout': None, 'filters': []}\n",
      "{'dropout_rnn': 0.39544285405927027, 'lstm_dims': [35], 'dropout_cnn': 0.8878159374674506, 'regularization_rate': 0.0005243650814720366, 'learning_rate': 0.013110959630724624, 'dropout': None, 'filters': []}\n",
      "{'dropout_rnn': 0.8358150434166296, 'lstm_dims': [48], 'dropout_cnn': 0.23835241170434776, 'regularization_rate': 0.041721139922490026, 'learning_rate': 0.00015187253487347347, 'dropout': None, 'filters': []}\n",
      "{'dropout_rnn': 0.37768919174711135, 'lstm_dims': [36], 'dropout_cnn': 0.2260344890235159, 'regularization_rate': 0.0019489486514306991, 'learning_rate': 0.07503660004551695, 'dropout': None, 'filters': []}\n",
      "{'dropout_rnn': 0.2417477346406004, 'lstm_dims': [35], 'dropout_cnn': 0.6300624142173912, 'regularization_rate': 0.0006846405581978158, 'learning_rate': 0.00015488020282156145, 'dropout': None, 'filters': []}\n",
      "{'dropout_rnn': 0.21152534761881336, 'lstm_dims': [19], 'dropout_cnn': 0.21010084969988257, 'regularization_rate': 0.0005382694287643751, 'learning_rate': 0.004808597413062673, 'dropout': None, 'filters': []}\n",
      "{'dropout_rnn': 0.3929642952795394, 'lstm_dims': [100], 'dropout_cnn': 0.47144065181407024, 'regularization_rate': 0.00016856612369671106, 'learning_rate': 0.016531356357483998, 'dropout': None, 'filters': []}\n",
      "{'dropout_rnn': 0.7396878888140446, 'lstm_dims': [21], 'dropout_cnn': 0.607081891802047, 'regularization_rate': 0.0038974602803078322, 'learning_rate': 0.0012075135518697872, 'dropout': None, 'filters': []}\n",
      "{'dropout_rnn': 0.38897121091278775, 'lstm_dims': [14], 'dropout_cnn': 0.6915965157011159, 'regularization_rate': 0.00019892429269732412, 'learning_rate': 0.0030285269869054277, 'dropout': None, 'filters': []}\n",
      "{'dropout_rnn': 0.6758154569763699, 'lstm_dims': [76], 'dropout_cnn': 0.4617815534645367, 'regularization_rate': 0.003608535601946817, 'learning_rate': 0.008616005355564834, 'dropout': None, 'filters': []}\n",
      "{'dropout_rnn': 0.5526234396630825, 'lstm_dims': [64], 'dropout_cnn': 0.8117600460973877, 'regularization_rate': 0.0010461311994689575, 'learning_rate': 0.0009519688006095008, 'dropout': None, 'filters': []}\n",
      "{'dropout_rnn': 0.5995174485153022, 'lstm_dims': [59], 'dropout_cnn': 0.7301314364763203, 'regularization_rate': 0.00018982891759479126, 'learning_rate': 0.0006818554965882943, 'dropout': None, 'filters': []}\n",
      "{'dropout_rnn': 0.3967744507380564, 'lstm_dims': [24], 'dropout_cnn': 0.36023041671736483, 'regularization_rate': 0.00025449233879137304, 'learning_rate': 0.0002693051258260761, 'dropout': None, 'filters': []}\n",
      "{'dropout_rnn': 0.8688172254512909, 'lstm_dims': [69], 'dropout_cnn': 0.8652597110462907, 'regularization_rate': 0.0032403697162398616, 'learning_rate': 0.05999326958070292, 'dropout': None, 'filters': []}\n",
      "{'dropout_rnn': 0.23452222953469748, 'lstm_dims': [45], 'dropout_cnn': 0.7151485503471884, 'regularization_rate': 0.0023154758799343697, 'learning_rate': 0.0012611909924736622, 'dropout': None, 'filters': []}\n",
      "{'dropout_rnn': 0.23791953477023103, 'lstm_dims': [15], 'dropout_cnn': 0.2680913131638275, 'regularization_rate': 0.05149290435548986, 'learning_rate': 0.00188242161921597, 'dropout': None, 'filters': []}\n",
      "{'dropout_rnn': 0.8464535239327617, 'lstm_dims': [82], 'dropout_cnn': 0.747188646441548, 'regularization_rate': 0.004729456482478955, 'learning_rate': 0.018030548539180832, 'dropout': None, 'filters': []}\n",
      "{'dropout_rnn': 0.30741086295327374, 'lstm_dims': [17], 'dropout_cnn': 0.4605026436474642, 'regularization_rate': 0.0006790054865002487, 'learning_rate': 0.0020728832324238364, 'dropout': None, 'filters': []}\n",
      "{'dropout_rnn': 0.5956126358457852, 'lstm_dims': [61], 'dropout_cnn': 0.48860681373401976, 'regularization_rate': 0.04765970053364682, 'learning_rate': 0.003249656930652032, 'dropout': None, 'filters': []}\n",
      "{'dropout_rnn': 0.45335281884322354, 'lstm_dims': [41], 'dropout_cnn': 0.3839902024147568, 'regularization_rate': 0.018244864759978673, 'learning_rate': 0.01584259377630458, 'dropout': None, 'filters': []}\n",
      "{'dropout_rnn': 0.8107536471857639, 'lstm_dims': [85], 'dropout_cnn': 0.21261385236043812, 'regularization_rate': 0.00333679427411306, 'learning_rate': 0.0005277583756589651, 'dropout': None, 'filters': []}\n",
      "{'dropout_rnn': 0.35014815259861376, 'lstm_dims': [16], 'dropout_cnn': 0.6201380404771064, 'regularization_rate': 0.022062480589872705, 'learning_rate': 0.001382456676946913, 'dropout': None, 'filters': []}\n",
      "{'dropout_rnn': 0.42672266836795403, 'lstm_dims': [99], 'dropout_cnn': 0.21388373647917136, 'regularization_rate': 0.0020649693783527244, 'learning_rate': 0.0009010705550342543, 'dropout': None, 'filters': []}\n",
      "{'dropout_rnn': 0.3577721727391141, 'lstm_dims': [14], 'dropout_cnn': 0.3710338386205531, 'regularization_rate': 0.06462220891799206, 'learning_rate': 0.03076802739505842, 'dropout': None, 'filters': []}\n",
      "{'dropout_rnn': 0.8067759110523987, 'lstm_dims': [60], 'dropout_cnn': 0.8014706525297897, 'regularization_rate': 0.07872169282596819, 'learning_rate': 0.07454486858597768, 'dropout': None, 'filters': []}\n",
      "{'dropout_rnn': 0.2693487763045841, 'lstm_dims': [98], 'dropout_cnn': 0.6480964805907548, 'regularization_rate': 0.007150305377332716, 'learning_rate': 0.0003762437258076279, 'dropout': None, 'filters': []}\n",
      "{'dropout_rnn': 0.5336043612502419, 'lstm_dims': [69], 'dropout_cnn': 0.6697020715723694, 'regularization_rate': 0.03215423477131869, 'learning_rate': 0.00033853108255736073, 'dropout': None, 'filters': []}\n",
      "{'dropout_rnn': 0.40026308216529793, 'lstm_dims': [81], 'dropout_cnn': 0.6857617953108859, 'regularization_rate': 0.012547787988807908, 'learning_rate': 0.007342546652129731, 'dropout': None, 'filters': []}\n",
      "{'dropout_rnn': 0.49905776839258115, 'lstm_dims': [32], 'dropout_cnn': 0.4182001726326, 'regularization_rate': 0.0007544610291322617, 'learning_rate': 0.000252317502256761, 'dropout': None, 'filters': []}\n",
      "{'dropout_rnn': 0.8746657464937135, 'lstm_dims': [42], 'dropout_cnn': 0.5947335136983181, 'regularization_rate': 0.0007188822040216642, 'learning_rate': 0.01816803031458228, 'dropout': None, 'filters': []}\n",
      "{'dropout_rnn': 0.6555833339398682, 'lstm_dims': [70], 'dropout_cnn': 0.7643590978551869, 'regularization_rate': 0.0006122609064372948, 'learning_rate': 0.049731335164513654, 'dropout': None, 'filters': []}\n",
      "{'dropout_rnn': 0.4496206055120343, 'lstm_dims': [68], 'dropout_cnn': 0.36507307759094004, 'regularization_rate': 0.00018101259375299505, 'learning_rate': 0.00034513999037732817, 'dropout': None, 'filters': []}\n",
      "{'dropout_rnn': 0.357371752772789, 'lstm_dims': [32], 'dropout_cnn': 0.38487700333573294, 'regularization_rate': 0.0004462835468269611, 'learning_rate': 0.002042304110155133, 'dropout': None, 'filters': []}\n",
      "{'dropout_rnn': 0.22796261166578413, 'lstm_dims': [88], 'dropout_cnn': 0.46674055177279083, 'regularization_rate': 0.027651566303917574, 'learning_rate': 0.00011778254671810803, 'dropout': None, 'filters': []}\n",
      "{'dropout_rnn': 0.3478710291729754, 'lstm_dims': [11], 'dropout_cnn': 0.7656773278668398, 'regularization_rate': 0.06662519551258311, 'learning_rate': 0.09280995723726893, 'dropout': None, 'filters': []}\n",
      "{'dropout_rnn': 0.8518645411023806, 'lstm_dims': [63], 'dropout_cnn': 0.42556821552195967, 'regularization_rate': 0.00014438235985392127, 'learning_rate': 0.008954774275416574, 'dropout': None, 'filters': []}\n",
      "{'dropout_rnn': 0.7638718618870595, 'lstm_dims': [67], 'dropout_cnn': 0.43272668119354973, 'regularization_rate': 0.0026990875613461004, 'learning_rate': 0.008403499264195846, 'dropout': None, 'filters': []}\n",
      "{'dropout_rnn': 0.856248269067976, 'lstm_dims': [91], 'dropout_cnn': 0.5111307104323661, 'regularization_rate': 0.005789618642480383, 'learning_rate': 0.009274771564125203, 'dropout': None, 'filters': []}\n",
      "{'dropout_rnn': 0.36958679786612364, 'lstm_dims': [96], 'dropout_cnn': 0.28662200014477, 'regularization_rate': 0.004187334136640262, 'learning_rate': 0.0002140006052680001, 'dropout': None, 'filters': []}\n",
      "{'dropout_rnn': 0.8106407323916882, 'lstm_dims': [50], 'dropout_cnn': 0.45917598094297085, 'regularization_rate': 0.03509964195421995, 'learning_rate': 0.0218887558801211, 'dropout': None, 'filters': []}\n",
      "{'dropout_rnn': 0.473012331586701, 'lstm_dims': [82], 'dropout_cnn': 0.2432127242101247, 'regularization_rate': 0.05586374572277835, 'learning_rate': 0.0001490806401506626, 'dropout': None, 'filters': []}\n",
      "{'dropout_rnn': 0.2118460646173668, 'lstm_dims': [76], 'dropout_cnn': 0.688274434339344, 'regularization_rate': 0.04920576564372303, 'learning_rate': 0.06330999285494224, 'dropout': None, 'filters': []}\n",
      "{'dropout_rnn': 0.6431692096116595, 'lstm_dims': [70], 'dropout_cnn': 0.2824322221764458, 'regularization_rate': 0.08404525850579524, 'learning_rate': 0.00012054792089601283, 'dropout': None, 'filters': []}\n"
     ]
    }
   ],
   "source": [
    "for i in range(0, len(val_metrics)):\n",
    "    with open(dir_name + '/model_no_cv_'+ str(i) + '.pkl', 'rb') as f:\n",
    "        model = pickle.load(f)\n",
    "        print(model)"
   ]
  },
  {
   "cell_type": "code",
   "execution_count": null,
   "metadata": {},
   "outputs": [],
   "source": []
  }
 ],
 "metadata": {
  "kernelspec": {
   "display_name": "Python 3",
   "language": "python",
   "name": "python3"
  },
  "language_info": {
   "codemirror_mode": {
    "name": "ipython",
    "version": 3
   },
   "file_extension": ".py",
   "mimetype": "text/x-python",
   "name": "python",
   "nbconvert_exporter": "python",
   "pygments_lexer": "ipython3",
   "version": "3.6.5"
  }
 },
 "nbformat": 4,
 "nbformat_minor": 2
}
